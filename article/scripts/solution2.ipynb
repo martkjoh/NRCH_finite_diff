{
 "cells": [
  {
   "cell_type": "code",
   "execution_count": null,
   "metadata": {},
   "outputs": [],
   "source": [
    "import numpy as np\n",
    "import matplotlib.pyplot as plt\n",
    "\n",
    "plt.rc(\"font\", family=\"serif\", size=16)\n",
    "plt.rc(\"mathtext\", fontset=\"cm\")\n",
    "plt.rc(\"lines\", lw=2)\n",
    "\n",
    "import sympy as sp\n",
    "from sympy import *\n",
    "from IPython.display import display, Latex\n",
    "\n",
    "\n",
    "D = lambda f, x : (np.array(diff(f(x), Matrix(x))).T)[0]\n",
    "def pr(T):\n",
    "    if len(np.shape(T))==1:\n",
    "        return display(Latex(\"$$\" + sp.latex(Matrix(T)) +\"$$\"))\n",
    "    elif len(np.shape(T))==2:\n",
    "        return display(Latex(\"$$\" + sp.latex(Matrix(T)) +\"$$\"))\n",
    "    else:\n",
    "        return display(Latex(\"$$\" + sp.latex(T) +\"$$\"))\n",
    "\n",
    "def smp(A, f=simplify):\n",
    "    n, m = np.shape(A)\n",
    "    B = np.empty_like(A)\n",
    "    for i in range(n):\n",
    "        for j in range(m):\n",
    "            B[i, j] = f(A[i,j])\n",
    "    return B\n",
    "\n",
    "def smp2(A, f=simplify):\n",
    "    n  = np.shape(A)[0]\n",
    "    B = np.empty_like(A)\n",
    "    for i in range(n):\n",
    "        B[i] = f(A[i])\n",
    "    return B"
   ]
  },
  {
   "cell_type": "code",
   "execution_count": null,
   "metadata": {},
   "outputs": [],
   "source": [
    "fig, ax = plt.subplots(1, 2, figsize=(10, 5))\n",
    "L = 1\n",
    "xx = np.linspace(0, L, 1000)\n",
    "dd = .95\n",
    "f1 = lambda x : (1 - dd) * np.cos(2 * x *(2*np.pi/L)) - dd\n",
    "f2 = lambda x : 2 * np.sqrt(1 * (1 - dd)) * np.cos(x*(2*np.pi/L))\n",
    "\n",
    "ax[0].plot(xx, f1(xx), \"r\", label=\"$\\\\varphi_1$\")\n",
    "ax[0].plot(xx, f2(xx), \"k\", label=\"$\\\\varphi_2$\")\n",
    "ax[0].legend()\n",
    "ax[0].set_xlabel(\"$x/L$\")\n",
    "ax[0].set_ylabel(\"$\\\\varphi/\\\\varphi^*$\")\n",
    "\n",
    "ax[1].plot(np.cos(xx*(2*np.pi/L)), np.sin(xx*(2*np.pi/L)), \"k--\", label=\"$|\\\\varphi| = \\\\varphi^*$\")\n",
    "ax[1].plot(f2(xx), f1(xx), 'g', label=\"$\\\\varphi_i(x)$\")\n",
    "ax[1].plot(0, -dd, \"go\", label=\"$\\\\bar\\\\varphi$\")\n",
    "ax[1].legend()\n",
    "ax[1].set_xlabel(\"$\\\\varphi_1/\\\\varphi^*$\")\n",
    "ax[1].set_ylabel(\"$\\\\varphi_2/\\\\varphi^*$\")\n",
    "\n",
    "fig.suptitle(f\"$\\\\bar\\\\varphi = -{ dd }\\\\varphi^*$\")\n",
    "plt.tight_layout()\n",
    "plt.show()\n",
    "fig.savefig(\"fig/sol2.svg\")\n"
   ]
  },
  {
   "cell_type": "code",
   "execution_count": null,
   "metadata": {},
   "outputs": [],
   "source": [
    "fig, ax = plt.subplots(1, 2, figsize=(10, 4.6))\n",
    "L = 10\n",
    "xx = np.linspace(0, L, 40)\n",
    "r = -1\n",
    "u = 1\n",
    "k = 2 * np.pi / L \n",
    "A = np.sqrt((-r - k**2 ) / u) \n",
    "f1 = lambda x : A * np.sin(x *k ) \n",
    "f2 = lambda x : A * np.cos(x*k)\n",
    "\n",
    "ax[0].plot(xx/L, f1(xx), \"r\", label=\"$\\\\varphi_1$\")\n",
    "ax[0].plot(xx/L, f2(xx), \"k\", label=\"$\\\\varphi_2$\")\n",
    "ax[0].legend()\n",
    "ax[0].set_xlabel(\"$x/L$\")\n",
    "ax[0].set_ylabel(\"$\\\\varphi/\\\\varphi^*$\")\n",
    "\n",
    "ax[1].plot(np.cos(xx*(2*np.pi/L)), np.sin(xx*(2*np.pi/L)), \"k--\", label=\"$|\\\\varphi| = \\\\varphi^*$\")\n",
    "ax[1].plot(f2(xx), f1(xx), 'r--.', label=\"$\\\\varphi_i(x)$\")\n",
    "ax[1].legend()\n",
    "ax[1].set_xlabel(\"$\\\\varphi_2/\\\\varphi^*$\")\n",
    "ax[1].set_ylabel(\"$\\\\varphi_1/\\\\varphi^*$\")\n",
    "\n",
    "ax[0].set_yticks([-1, -0.5, 0, 0.5, 1])\n",
    "ax[0].set_ylim(-1.1, 1.1)\n",
    "plt.tight_layout()\n",
    "ax[0].set_xlim(0, 1)\n",
    "fig.savefig(\"fig/sol1.pdf\" ,bbox_inches='tight')\n",
    "plt.show()"
   ]
  },
  {
   "cell_type": "code",
   "execution_count": null,
   "metadata": {},
   "outputs": [],
   "source": [
    "r, th, A, B, phb, u, d = symbols('r, \\\\theta, A, B, \\\\bar\\\\varphi, u, \\\\delta')\n",
    "k, x, t, w = symbols('k, x, t, \\\\omega')\n",
    "ph = k * x\n",
    "phs = sqrt(-r /u)\n",
    "p1 = d * sp.cos(2 * ph) - phb\n",
    "p2 = 2 * sqrt(phb*d) * sp.cos(ph)"
   ]
  },
  {
   "cell_type": "code",
   "execution_count": null,
   "metadata": {},
   "outputs": [],
   "source": [
    "p1"
   ]
  },
  {
   "cell_type": "code",
   "execution_count": null,
   "metadata": {},
   "outputs": [],
   "source": [
    "p2"
   ]
  },
  {
   "cell_type": "code",
   "execution_count": null,
   "metadata": {},
   "outputs": [],
   "source": [
    "psq = expand(p1**2 + p2**2)\n",
    "psq"
   ]
  },
  {
   "cell_type": "code",
   "execution_count": null,
   "metadata": {},
   "outputs": [],
   "source": [
    "eq1 = - diff(p1, t) \\\n",
    "    + diff(diff( \n",
    "        r * p1 \\\n",
    "        - simplify(diff(diff(p1, x), x))\n",
    "        + u * simplify(p1**2 + p2**2)*p1\n",
    "    ,x ), x)\n",
    "eq1 = expand(eq1)\n",
    "eq1"
   ]
  },
  {
   "cell_type": "code",
   "execution_count": null,
   "metadata": {},
   "outputs": [],
   "source": [
    "trigsimp(eq1)"
   ]
  }
 ],
 "metadata": {
  "kernelspec": {
   "display_name": ".venv",
   "language": "python",
   "name": "python3"
  },
  "language_info": {
   "codemirror_mode": {
    "name": "ipython",
    "version": 3
   },
   "file_extension": ".py",
   "mimetype": "text/x-python",
   "name": "python",
   "nbconvert_exporter": "python",
   "pygments_lexer": "ipython3",
   "version": "3.12.3"
  },
  "orig_nbformat": 4
 },
 "nbformat": 4,
 "nbformat_minor": 2
}
