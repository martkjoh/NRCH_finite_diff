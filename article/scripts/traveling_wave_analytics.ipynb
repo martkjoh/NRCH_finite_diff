{
 "cells": [
  {
   "cell_type": "code",
   "execution_count": null,
   "metadata": {},
   "outputs": [],
   "source": [
    "# Obs! This notebook needs a SageMath server to run\n",
    "# Visit https://www.sagemath.org/\n",
    "\n",
    "from IPython.display import display, Latex\n",
    "def pprint(expr):\n",
    "    return display(Latex(\"$$\" + latex(expr) +\"$$\"))\n",
    "\n",
    "var(\"k, q, kq\")\n",
    "var(\"p\", latex_name=\"\\\\phi\")\n",
    "\n",
    "\n",
    "O11 = 4*k**2 - 4 * I * kq * sin(2*p) + q**2 * (1 + 2 * cos(p)**2)\n",
    "O22 = 4*k**2 + 4 * I * kq * sin(2*p) + q**2 * (1 + 2 * sin(p)**2)\n",
    "O12 = 4*I*kq*cos(2*p) + q**2 * sin(2*p)"
   ]
  },
  {
   "cell_type": "code",
   "execution_count": null,
   "metadata": {},
   "outputs": [],
   "source": [
    "O = Matrix([[O11, O12], [O12, O22]])\n",
    "d = det(O)\n",
    "pprint(O)\n",
    "pprint(d) \n",
    "pprint(d.full_simplify())"
   ]
  },
  {
   "cell_type": "code",
   "execution_count": null,
   "metadata": {},
   "outputs": [],
   "source": [
    "var(\"a\", latex_name=\"\\\\alpha\")\n",
    "var(\"r, x\")\n",
    "N = q**2*Matrix([[(r + q**2), a], [-a,(r + q**2)]])\n",
    "K = N + x**2*O \n",
    "pprint(K)"
   ]
  },
  {
   "cell_type": "code",
   "execution_count": null,
   "metadata": {},
   "outputs": [],
   "source": [
    "pprint(det(K).full_simplify())"
   ]
  },
  {
   "cell_type": "code",
   "execution_count": null,
   "metadata": {},
   "outputs": [],
   "source": [
    "eig = K.eigenvalues()\n",
    "pprint(eig[0].full_simplify())\n",
    "pprint(eig[1].full_simplify())"
   ]
  },
  {
   "cell_type": "code",
   "execution_count": null,
   "metadata": {},
   "outputs": [],
   "source": [
    "pprint(eig[1].subs(r == -x**2 - k**2).full_simplify())"
   ]
  },
  {
   "cell_type": "code",
   "execution_count": null,
   "metadata": {},
   "outputs": [],
   "source": [
    "pprint(eig[1].subs(x == sqrt(-r  - k**2)).full_simplify())"
   ]
  }
 ],
 "metadata": {
  "kernelspec": {
   "display_name": "SageMath 9.5",
   "language": "sage",
   "name": "sagemath"
  },
  "language_info": {
   "codemirror_mode": {
    "name": "ipython",
    "version": 3
   },
   "file_extension": ".py",
   "mimetype": "text/x-python",
   "name": "python",
   "nbconvert_exporter": "python",
   "pygments_lexer": "ipython3",
   "version": "3.10.12"
  },
  "orig_nbformat": 4
 },
 "nbformat": 4,
 "nbformat_minor": 2
}
